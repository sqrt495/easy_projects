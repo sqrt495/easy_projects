{
 "cells": [
  {
   "cell_type": "markdown",
   "metadata": {},
   "source": [
    "# 1. Парсер vk\n",
    "\n",
    "Ознакомиться со способами взаимодействия с Вконтакте можно по [ссылке](https://vk.com/dev/manuals) на отличную документацию. Для того, чтобы получить доступ к выгрузке данных, нужно пройти ряд бюрократических процедур.\n",
    "\n",
    "Первая такая процедура заключается в создании своего приложения. Для этого переходим по [ссылке](http://vk.com/editapp?act=create) и проходимся по необходимым шагам:\n",
    "\n",
    "<img align=\"center\" src=\"pictures/app_creation_1.png\" height=\"600\" width=\"600\">\n",
    "\n",
    "После подтверждения своей личности по номеру телефона, попадаем на страницу свежесозданного приложения\n",
    "<img align=\"center\" src=\"pictures/app_creation_2.png\" height=\"600\" width=\"600\">\n",
    "\n",
    "Слева нам будем доступна вкладка с настройками, перейдя в неё мы увидим все необходимые нам для работы с приложением параметры:\n",
    "<img align=\"center\" src=\"pictures/app_creation_3.png\" height=\"600\" width=\"600\">\n",
    "\n",
    "\n",
    "Для работы с частью методов API этого вполне достаточно (обычно в заголовке такого метода стоит соответствующая пометка). Для части методов, используемых нами, может понадобиться ключ доступа.\n",
    "\n",
    "Для того, чтобы получить его, необходимо сделать ещё пару странных манипуляций:\n",
    "\n",
    "Переходим по ссылке вида (на месте звездочек должен стоять ID созданного вами приложения):\n",
    "\n",
    "> https://oauth.vk.com/authorize?client_id=**********&scope=14&redirect_uri=https://oauth.vk.com/blank.html&display=page&v=5.16&response_type=token\n",
    "\n",
    "<img align=\"center\" src=\"pictures/app_creation_4.png\" height=\"600\" width=\"600\">\n",
    "\n",
    "В итоге по этому запросу будет сформирована ссылка следующего вида:\n",
    "> https://oauth.vk.com/blank.html#access_token=25b636116ef40e0718fe4d9f382544fc28&expires_in=86400&user_id=*******\n",
    "\n",
    "Первый набор знаков - access token, т.е. маркер доступа. Вторая цифра (expires_in=) время работы маркера доступа в секундах (одни сутки). По истечению суток нужно будет получить новый маркер доступа. Последняя цифра (user_id=) ваш ID Вконтакте. Нам в дальнейшем понадобится маркер доступа. Для удобства сохраним его в отдельном файле или экспортируем в глобальную область видимости. В целях безопасности ваших данных не стоит нигде светить токенами и тем более выкладывать их в открытый доступ.\n",
    "\n",
    "Обратите внимание на ссылку, по которой мы делали запрос на предоставление токена. Внутри неё находится странный параметр scope=14. Эта загадочная цифра есть ничто иное, как права доступа к социальной сети. Подробнее познакомиться с взаимно-однозначным соответствием между числами и правами можно в документации. Например, если мы хотим получить доступ к друзьям, фото и аудио, мы подставим в scope цифру 2+4+8=14."
   ]
  },
  {
   "cell_type": "code",
   "execution_count": 2,
   "metadata": {},
   "outputs": [],
   "source": [
    "# Загружаем необходимые библиотеки\n",
    "\n",
    "import datetime                  # Пакет для работы с временными форматами\n",
    "import pickle                    # Пакет для подгрузки данных специфического для питона формата\n",
    "import requests                  # Пакет для скачки данных из этих ваших интернетов\n",
    "import pandas as pd              # Пакет для работы с таблицами\n",
    "import numpy as np               # Пакет для работы с векторами и матрицами\n",
    "import matplotlib.pyplot as plt  # Пакет для строительства графиков\n",
    "import time            # Пакет для работы со временем. Например, помогает ставить заглушки \n",
    "                       # time.sleep(секунды), необходимые для того что ВК не банил нашего\n",
    "                       # сборщика данных из-за слишком частых запросов\n",
    "        \n",
    "# Пакет для красивых циклов. При желании его можно отключить. Тогда из всех циклов придётся \n",
    "# удалять команду tqdm_notebook.\n",
    "from tqdm import tqdm_notebook   # подробнее: https://github.com/tqdm/tqdm"
   ]
  },
  {
   "cell_type": "code",
   "execution_count": 37,
   "metadata": {},
   "outputs": [],
   "source": [
    "# мой номер странички\n",
    "my_user_id = 371834160\n",
    "# версия используемого API\n",
    "version = '5.103' \n",
    "\n",
    "# подгружаем токен\n",
    "with open('C:/Users/Asus/GitHab_repos/vk_at.txt') as f:\n",
    "    token = f.read()"
   ]
  },
  {
   "cell_type": "code",
   "execution_count": 72,
   "metadata": {},
   "outputs": [
    {
     "data": {
      "text/plain": [
       "{'response': [{'id': 371834160,\n",
       "   'first_name': 'Sergei',\n",
       "   'last_name': 'Korneev',\n",
       "   'is_closed': False,\n",
       "   'can_access_closed': True}]}"
      ]
     },
     "execution_count": 72,
     "metadata": {},
     "output_type": "execute_result"
    }
   ],
   "source": [
    "def vkDownload(method, parameters, token=token, version=version):\n",
    "    \"\"\"\n",
    "        Возвращает результат запроса по методу\n",
    "        \n",
    "        method: string\n",
    "            метод из документации, который хотим использовать\n",
    "            \n",
    "        parameters: string\n",
    "            параметры используемого метода\n",
    "            \n",
    "        token: string\n",
    "            токен Oauth доступа\n",
    "        \n",
    "        version: string\n",
    "            версия API\n",
    "    \"\"\"\n",
    "    \n",
    "    \n",
    "    # составляем ссылку\n",
    "    url = 'https://api.vk.com/method/{method}?{parameters}&access_token={token}&v={version}'\n",
    "    url = url.format(method=method, parameters=parameters, token=token, version=version)\n",
    "    # запрашиваем ссылку и переводим в json (словарь)\n",
    "    response = requests.get(url).json()\n",
    "    \n",
    "    \n",
    "    return response\n",
    "\n",
    "vkDownload('users.get','user_ids=371834160')    "
   ]
  },
  {
   "cell_type": "code",
   "execution_count": 80,
   "metadata": {},
   "outputs": [
    {
     "data": {
      "text/plain": [
       "[{'id': 183520797,\n",
       "  'first_name': 'Роман',\n",
       "  'last_name': 'Шабанов',\n",
       "  'is_closed': False,\n",
       "  'can_access_closed': True}]"
      ]
     },
     "execution_count": 80,
     "metadata": {},
     "output_type": "execute_result"
    }
   ],
   "source": [
    "response['response']"
   ]
  },
  {
   "cell_type": "code",
   "execution_count": 5,
   "metadata": {},
   "outputs": [],
   "source": [
    "def makeBatch(uids, size=25):\n",
    "    \"\"\"\n",
    "        Возвращает лист листов из пользователей, батчами по size человек \n",
    "        По умолчанию size=25\n",
    "    \"\"\"\n",
    "    batches = [uids[i:i + size] for i in range(0,len(uids),size)]\n",
    "    \n",
    "    return batches "
   ]
  },
  {
   "cell_type": "markdown",
   "metadata": {},
   "source": [
    "## 1.1 Подписчики каждой группы для жанра"
   ]
  },
  {
   "cell_type": "code",
   "execution_count": 6,
   "metadata": {},
   "outputs": [],
   "source": [
    "music_style = 'rhh'\n",
    "\n",
    "target_groups={\n",
    "    'lizer' : '117382436',\n",
    "    'morgenshtern' : '123675921',\n",
    "    'face' : '95470601',\n",
    "    'lj' : '41623203'\n",
    "    }"
   ]
  },
  {
   "cell_type": "code",
   "execution_count": 7,
   "metadata": {},
   "outputs": [],
   "source": [
    "# слоаврь группа-юзеры\n",
    "group_users_dct = {}"
   ]
  },
  {
   "cell_type": "markdown",
   "metadata": {},
   "source": [
    "Перед тем, как сохранять юзеров, надо профильтровать их на предмет существования... "
   ]
  },
  {
   "cell_type": "code",
   "execution_count": 8,
   "metadata": {},
   "outputs": [],
   "source": [
    "def checkExisting(uids):\n",
    "    \"\"\"\n",
    "        Проверяет существование id и оставляет только не удаленные \n",
    "    \"\"\"\n",
    "    \n",
    "    cur_inf = vkDownload('users.get','user_ids={}'.format(','.join(str(e) for e in uids)))\n",
    "    cur_inf = cur_inf['response']\n",
    "    clean_members = [us_inf['id'] for us_inf in cur_inf if us_inf.get('deactivated','real') == 'real']\n",
    "    return clean_members\n",
    "\n",
    "\n",
    "def getGroupMembers(group_id):\n",
    "    \"\"\"\n",
    "        Возвращает список всех пользователей данной группы\n",
    "        Итерации идут батчами по 1000 пользователей\n",
    "        \n",
    "        group_id: string\n",
    "            идентификатор группы (ссылка)\n",
    "    \"\"\"\n",
    "    \n",
    "    # Узнаём число запросов, которое надо сделать \n",
    "    count = vkDownload('groups.getMembers','group_id=' + group_id)['response']['count']\n",
    "    \n",
    "    # сэплируем число подписчиков, которые мы хотим вытащить\n",
    "    # берём либо 10%, либо 100 000, смотря что больше\n",
    "    n_sampled = int(max(0.1 * count, min(count, 100000)))\n",
    "    print(\"Общее число пользователей: {}\\nСэмплированное число пользователей: {}\".format(count, n_sampled))\n",
    "    \n",
    "    # выясняем, сколько запросов нам понадобится\n",
    "    n = np.linspace(0, count/1000, num=n_sampled/1000).astype(int)\n",
    "    \n",
    "    #n = int(np.ceil(count/1000))  \n",
    "    \n",
    "    # вектор, где мы будем хранить id пользователей\n",
    "    members = []     \n",
    "    \n",
    "    for i in tqdm_notebook(n): \n",
    "        try:\n",
    "            # при помощи метода groups.getMembers получаем пользователей группы\n",
    "            current_members = vkDownload('groups.getMembers','group_id='+group_id+'&offset='+str(1000*i))\n",
    "            current_members = current_members['response']['items']\n",
    "        \n",
    "            # проверим реально ли существуют все юзеры из списка выше\n",
    "            for i in range(0,1000,200):\n",
    "                time.sleep(0.3)\n",
    "                members.extend(checkExisting(current_members[i:i+200]))\n",
    "\n",
    "            # перед следующим запросом немножко подождем\n",
    "            time.sleep(0.3)\n",
    "        except Exception as e:\n",
    "            print(e)\n",
    "            next\n",
    "        \n",
    "    return members"
   ]
  },
  {
   "cell_type": "code",
   "execution_count": 9,
   "metadata": {
    "scrolled": true
   },
   "outputs": [
    {
     "data": {
      "application/vnd.jupyter.widget-view+json": {
       "model_id": "f3e444ea6c404099a8fc4568098754f8",
       "version_major": 2,
       "version_minor": 0
      },
      "text/plain": [
       "HBox(children=(IntProgress(value=0, max=4), HTML(value='')))"
      ]
     },
     "metadata": {},
     "output_type": "display_data"
    },
    {
     "name": "stdout",
     "output_type": "stream",
     "text": [
      "Общее число пользователей: 458192\n",
      "Сэмплированное число пользователей: 100000\n"
     ]
    },
    {
     "name": "stderr",
     "output_type": "stream",
     "text": [
      "C:\\Users\\Asus\\Anaconda3\\lib\\site-packages\\ipykernel_launcher.py:30: DeprecationWarning: object of type <class 'float'> cannot be safely interpreted as an integer.\n"
     ]
    },
    {
     "data": {
      "application/vnd.jupyter.widget-view+json": {
       "model_id": "33a524699b3c41429046d6db005e1659",
       "version_major": 2,
       "version_minor": 0
      },
      "text/plain": [
       "HBox(children=(IntProgress(value=0), HTML(value='')))"
      ]
     },
     "metadata": {},
     "output_type": "display_data"
    },
    {
     "name": "stdout",
     "output_type": "stream",
     "text": [
      "lizer : 97394\n",
      "Общее число пользователей: 1294128\n",
      "Сэмплированное число пользователей: 129412\n"
     ]
    },
    {
     "data": {
      "application/vnd.jupyter.widget-view+json": {
       "model_id": "387f364f3d254959acf5751e034e3174",
       "version_major": 2,
       "version_minor": 0
      },
      "text/plain": [
       "HBox(children=(IntProgress(value=0, max=129), HTML(value='')))"
      ]
     },
     "metadata": {},
     "output_type": "display_data"
    },
    {
     "name": "stdout",
     "output_type": "stream",
     "text": [
      "morgenshtern : 117586\n",
      "Общее число пользователей: 939281\n",
      "Сэмплированное число пользователей: 100000\n"
     ]
    },
    {
     "data": {
      "application/vnd.jupyter.widget-view+json": {
       "model_id": "48c6ff1d7a6c4ea382bc0f5eac853543",
       "version_major": 2,
       "version_minor": 0
      },
      "text/plain": [
       "HBox(children=(IntProgress(value=0), HTML(value='')))"
      ]
     },
     "metadata": {},
     "output_type": "display_data"
    },
    {
     "name": "stdout",
     "output_type": "stream",
     "text": [
      "face : 84548\n",
      "Общее число пользователей: 1463981\n",
      "Сэмплированное число пользователей: 146398\n"
     ]
    },
    {
     "data": {
      "application/vnd.jupyter.widget-view+json": {
       "model_id": "5096f81a155c405fb7815c298c727179",
       "version_major": 2,
       "version_minor": 0
      },
      "text/plain": [
       "HBox(children=(IntProgress(value=0, max=146), HTML(value='')))"
      ]
     },
     "metadata": {},
     "output_type": "display_data"
    },
    {
     "name": "stdout",
     "output_type": "stream",
     "text": [
      "lj : 121935\n",
      "\n"
     ]
    }
   ],
   "source": [
    "# по каждому id группы сохраняем подписчиков \n",
    "for k,v in tqdm_notebook(target_groups.items()):\n",
    "    try:\n",
    "        members = getGroupMembers(target_groups[k]) \n",
    "        print(k,':',len(members))\n",
    "        group_users_dct[k] = members\n",
    "    except KeyboardInterrupt:\n",
    "        break"
   ]
  },
  {
   "cell_type": "code",
   "execution_count": 12,
   "metadata": {},
   "outputs": [],
   "source": [
    "# Сохраняем словарик для текущего жанра \n",
    "with open('{}_group_users'.format(music_style), 'wb') as f:\n",
    "    pickle.dump(group_users_dct, f)"
   ]
  },
  {
   "cell_type": "code",
   "execution_count": 13,
   "metadata": {},
   "outputs": [],
   "source": [
    "with open('{}_group_users'.format(music_style), 'rb') as f:\n",
    "    group_users_dct = pickle.load(f)"
   ]
  },
  {
   "cell_type": "code",
   "execution_count": 17,
   "metadata": {},
   "outputs": [
    {
     "data": {
      "text/plain": [
       "[595, 628, 847, 1196, 1887]"
      ]
     },
     "execution_count": 17,
     "metadata": {},
     "output_type": "execute_result"
    }
   ],
   "source": [
    "# первые 5 фанатов Элджея:\n",
    "\n",
    "group_users_dct['lj'][:5]"
   ]
  },
  {
   "cell_type": "code",
   "execution_count": 145,
   "metadata": {},
   "outputs": [
    {
     "data": {
      "application/vnd.jupyter.widget-view+json": {
       "model_id": "0f15af0bb6e04c52901cbd9a4e05b6ac",
       "version_major": 2,
       "version_minor": 0
      },
      "text/plain": [
       "HBox(children=(IntProgress(value=0, max=1000), HTML(value='')))"
      ]
     },
     "metadata": {},
     "output_type": "display_data"
    }
   ],
   "source": [
    "def vk_download(method,parameters,token = token,version=version):\n",
    "    url = 'https://api.vk.com/method/{method}?{parameters}&access_token={token}&v={version}'\n",
    "    url = url.format(method=method, parameters=parameters, token=token, version=version)\n",
    "#     response = \n",
    "    return requests.get(url).json()\n",
    "\n",
    "lizer_fans_bio = { }   \n",
    "\n",
    "# что скачиваем\n",
    "fields = 'photo_id,sex,bdate,city,country,home_town,education,universities,schools,status,followers_count,occupation,interests,movies,tv,books,games'\n",
    "\n",
    "for id_ in tqdm_notebook(group_users_dct['lizer'][:1000]): \n",
    "    time.sleep(0.4)   # Не забываем отдохнуть между запросами, чтобы вк не злился! \n",
    "    try:\n",
    "        res = vk_download('users.get','user_ids='+str(id_)+'&fields=' + fields)['response'][0]\n",
    "       \n",
    "        # закидываем новую информацию в словарик \n",
    "        lizer_fans_bio[id_] = res   \n",
    "    except:\n",
    "        # Если скачка не удалась, выведем сообщение об ошибке\n",
    "        # (По идее, мы хорошо обработали до этого всех юзеров и ошибок не будет)\n",
    "        print('Ощибка с ',traceback.print_exc(), id_)\n"
   ]
  },
  {
   "cell_type": "markdown",
   "metadata": {},
   "source": [
    "### Сохранить на диск"
   ]
  },
  {
   "cell_type": "code",
   "execution_count": 149,
   "metadata": {},
   "outputs": [],
   "source": [
    "with open('lizer_fans_bio', 'wb') as f:\n",
    "    pickle.dump(lizer_fans_bio, f)"
   ]
  },
  {
   "cell_type": "markdown",
   "metadata": {},
   "source": [
    "### Открыть"
   ]
  },
  {
   "cell_type": "code",
   "execution_count": 146,
   "metadata": {},
   "outputs": [],
   "source": [
    "with open('lj_fans_bio', 'rb') as f:\n",
    "    lj_fans_bio = pickle.load(f)"
   ]
  },
  {
   "cell_type": "code",
   "execution_count": 147,
   "metadata": {},
   "outputs": [
    {
     "data": {
      "text/plain": [
       "1000"
      ]
     },
     "execution_count": 147,
     "metadata": {},
     "output_type": "execute_result"
    }
   ],
   "source": [
    "len(lj_fans_bio)"
   ]
  },
  {
   "cell_type": "code",
   "execution_count": 148,
   "metadata": {},
   "outputs": [
    {
     "data": {
      "text/plain": [
       "dict_keys([595, 628, 847, 1196, 1887, 3450, 4041, 4689, 4731, 4756, 5394, 5665, 6673, 7982, 8418, 8436, 9447, 9941, 11316, 16017, 17987, 19057, 23401, 24091, 25248, 25740, 25872, 27852, 28507, 29990, 30720, 32067, 35310, 39709, 40966, 43481, 43797, 44249, 50849, 56510, 59935, 60359, 61782, 62094, 64361, 64847, 66404, 66668, 67314, 67890, 68166, 74360, 76712, 77596, 77891, 80683, 82177, 85727, 87797, 87952, 88253, 89768, 89862, 90175, 90828, 91120, 93832, 95276, 95897, 96813, 99295, 99638, 103177, 103599, 103721, 106414, 116140, 117754, 119601, 122525, 123321, 125095, 126021, 127133, 128393, 129379, 132467, 134493, 135352, 136614, 137512, 139376, 143720, 143764, 147932, 153493, 157376, 158600, 159769, 160310, 161207, 162625, 163260, 165846, 166821, 169966, 174710, 175316, 176269, 177713, 179259, 182663, 184141, 187449, 192507, 195122, 197943, 199419, 201567, 202893, 203512, 203576, 205109, 208315, 213014, 218384, 218510, 221097, 223356, 223472, 223624, 225141, 226423, 230016, 230149, 235792, 236388, 238789, 241374, 244392, 247730, 248254, 248449, 250186, 251223, 252079, 256487, 259935, 259973, 260069, 260616, 263860, 264034, 264691, 269314, 269769, 271060, 273157, 273789, 275524, 283911, 284284, 284394, 287867, 288891, 291929, 292681, 293020, 293660, 293940, 296392, 297232, 299580, 299778, 300519, 301419, 305105, 305768, 307922, 308805, 314446, 316128, 316898, 317660, 320219, 323286, 323408, 324024, 325187, 326617, 331714, 332244, 332643, 333364, 336171, 342553, 343688, 344476, 347697, 348344, 348689, 349513, 350417, 352955, 353002, 355869, 357381, 359294, 360519, 361320, 368596, 369651, 373407, 373547, 374426, 380392, 391609, 397159, 399211, 400111, 401853, 402704, 404531, 405043, 406020, 407748, 408204, 411219, 413581, 414163, 414471, 415701, 417780, 419503, 419713, 421848, 425555, 426429, 426838, 428011, 428301, 429605, 430751, 439014, 440563, 441724, 443224, 443548, 443825, 444996, 446799, 448157, 451130, 455695, 455982, 456216, 457941, 458349, 462682, 466992, 467139, 469928, 471586, 475654, 486430, 488209, 490177, 490438, 491863, 494793, 494967, 496203, 497414, 498025, 499024, 499700, 500651, 506265, 509085, 511108, 512320, 516045, 518263, 522116, 527675, 528119, 529919, 530372, 532082, 533789, 534953, 538065, 538827, 549427, 551899, 553767, 553788, 555254, 563119, 570248, 574610, 574954, 580082, 582563, 583729, 584168, 584387, 584933, 585203, 586259, 589637, 590880, 596355, 597764, 599245, 600349, 600565, 603130, 606096, 610392, 610982, 612043, 613095, 616001, 617501, 619270, 620668, 621131, 622802, 623796, 623828, 625804, 625955, 631066, 633302, 633593, 637865, 642700, 644247, 644804, 648799, 650357, 653182, 654458, 658695, 660598, 661416, 662504, 663370, 665272, 668155, 669153, 669875, 675930, 677722, 679337, 684315, 684888, 688648, 691318, 697621, 700799, 703420, 706361, 708498, 709027, 711383, 713362, 715840, 716820, 717350, 718865, 721954, 723563, 725157, 731438, 732956, 733275, 736839, 737051, 741722, 741743, 742064, 746992, 749739, 749972, 750095, 751445, 753434, 759031, 761702, 764481, 766046, 767043, 767954, 769256, 769291, 769296, 769755, 773663, 775160, 775407, 778226, 778240, 779053, 782501, 786241, 786618, 786790, 788148, 788293, 788722, 792848, 793762, 797399, 799780, 802249, 802911, 803906, 804063, 805245, 813695, 815718, 815894, 816543, 817618, 819060, 822434, 823429, 823880, 829807, 835319, 842568, 844317, 846066, 846539, 850033, 850043, 850104, 851038, 852013, 854076, 857667, 858169, 859103, 860417, 860537, 862821, 865779, 868261, 869879, 871618, 872248, 874617, 876254, 876765, 876842, 878742, 882755, 884572, 885529, 891934, 892224, 895678, 897713, 897883, 898806, 901133, 901261, 901606, 901949, 904148, 905155, 905290, 906357, 906847, 911374, 912202, 915621, 916784, 919976, 920724, 921302, 924663, 928303, 928326, 928637, 931906, 934385, 938531, 940894, 942021, 946568, 947749, 948229, 949749, 951922, 957958, 958259, 959628, 961915, 965731, 970045, 971538, 971728, 990630, 991237, 993107, 995057, 998152, 998417, 1000852, 1000898, 1002794, 1003961, 1005201, 1005204, 1006263, 1006593, 1007528, 1007582, 1008993, 1009214, 1009821, 1010666, 1012270, 1013366, 1016959, 1018040, 1025353, 1026785, 1031578, 1037127, 1040036, 1040781, 1041172, 1041483, 1041518, 1042378, 1045290, 1047693, 1050947, 1053975, 1054345, 1054485, 1055033, 1055685, 1057065, 1058951, 1059396, 1063005, 1067753, 1067951, 1071052, 1071146, 1072524, 1072535, 1077322, 1079043, 1083991, 1086617, 1087824, 1089406, 1093467, 1095624, 1100968, 1101337, 1101428, 1107746, 1109503, 1123313, 1124440, 1124861, 1125709, 1128132, 1134211, 1134754, 1135903, 1138397, 1138710, 1141549, 1147561, 1147718, 1148496, 1149339, 1155029, 1155187, 1155575, 1156328, 1160272, 1162601, 1163629, 1169023, 1171745, 1172397, 1174781, 1176240, 1176346, 1177822, 1179284, 1183365, 1184752, 1184970, 1185539, 1187802, 1189939, 1201672, 1202690, 1204059, 1205968, 1206198, 1206737, 1209204, 1210321, 1210644, 1212511, 1218648, 1220614, 1223006, 1223153, 1223674, 1225343, 1228492, 1230877, 1232131, 1238352, 1238692, 1240380, 1240994, 1241449, 1245188, 1252678, 1256978, 1259439, 1262392, 1262718, 1263615, 1264019, 1266713, 1269293, 1270035, 1270314, 1270348, 1270904, 1272401, 1272753, 1272763, 1273705, 1275496, 1275812, 1275850, 1280162, 1281594, 1288262, 1292590, 1294307, 1297006, 1300256, 1300438, 1301235, 1302629, 1305255, 1307724, 1307730, 1311459, 1314474, 1316630, 1316756, 1321135, 1321274, 1324639, 1331009, 1332197, 1332741, 1335900, 1345358, 1348254, 1349930, 1352018, 1352099, 1354402, 1358029, 1361130, 1361373, 1362063, 1362782, 1366886, 1368118, 1368618, 1369599, 1371096, 1375297, 1375326, 1377636, 1384722, 1385957, 1387106, 1391938, 1392544, 1392644, 1395189, 1396154, 1397827, 1399369, 1401766, 1402432, 1404088, 1416094, 1417849, 1419672, 1421330, 1423787, 1424464, 1429544, 1433666, 1435982, 1442168, 1446518, 1446766, 1448103, 1450305, 1451885, 1459462, 1465231, 1465725, 1465825, 1467200, 1473035, 1481794, 1481999, 1483907, 1485585, 1486488, 1487734, 1489793, 1491316, 1495960, 1496817, 1500335, 1500405, 1503033, 1504968, 1505684, 1510277, 1514041, 1515904, 1517312, 1517505, 1518113, 1519230, 1524399, 1525497, 1527455, 1527497, 1528091, 1531801, 1532238, 1534739, 1537035, 1537083, 1538833, 1540944, 1541799, 1553601, 1554651, 1557479, 1558765, 1559662, 1561113, 1562187, 1564089, 1566039, 1567471, 1567952, 1568026, 1569924, 1571784, 1572164, 1575001, 1575372, 1576416, 1576718, 1576826, 1577325, 1582463, 1585675, 1588096, 1591845, 1594569, 1597389, 1600350, 1600891, 1602899, 1605307, 1611605, 1616032, 1616930, 1617687, 1618260, 1619266, 1620618, 1621529, 1622493, 1623644, 1625312, 1637898, 1638107, 1638810, 1640872, 1640967, 1641294, 1641855, 1644661, 1645649, 1647122, 1649534, 1649750, 1650233, 1650854, 1655060, 1656495, 1656827, 1657753, 1658220, 1660308, 1663916, 1665615, 1666892, 1670155, 1673021, 1675515, 1677973, 1683908, 1684311, 1689563, 1690292, 1694780, 1696977, 1704585, 1704677, 1708433, 1708701, 1709964, 1711300, 1712928, 1714925, 1715001, 1715080, 1716068, 1717582, 1719882, 1720272, 1730876, 1737537, 1739043, 1739133, 1739565, 1739610, 1739877, 1740252, 1741762, 1743592, 1745357, 15735462, 15735838, 15737516, 15738588, 15739977, 15741378, 15742098, 15742475, 15743572, 15746151, 15748436, 15749295, 15750388, 15750457, 15753290, 15753778, 15753974, 15754353, 15756954, 15757486, 15758936, 15759056, 15760051, 15760416, 15761020, 15761430, 15762264, 15762609, 15762977, 15766104, 15766354, 15771981, 15772022, 15775373, 15778862, 15780852, 15782708, 15782896, 15783559, 15784446, 15786320, 15786872, 15787704, 15787841, 15788587, 15789855, 15790450, 15792878, 15793044, 15797295, 15798086, 15799583, 15800688, 15802043, 15802055, 15802381, 15802634, 15803556, 15804075, 15804465, 15804819, 15804864, 15805067, 15805994, 15806119, 15807425, 15807752, 15808662, 15809400, 15813077, 15817253, 15817708, 15818131, 15818431, 15819187, 15819732, 15819739, 15822650, 15823212, 15823399, 15823534, 15826614, 15828142, 15828632, 15830374, 15830541, 15831323, 15831842, 15832154, 15832933, 15833119, 15833530, 15833678, 15834509, 15834777, 15835404, 15838071, 15838248, 15838345, 15838707, 15839034, 15842685, 15845091, 15845744, 15846072, 15846856, 15847682, 15847970, 15848109, 15848239, 15848886, 15851193, 15851268, 15851447, 15852176, 15852310, 15852599, 15853185, 15856271, 15856533, 15860281, 15862589, 15865592, 15866550, 15866782, 15867383, 15873560, 15876886, 15877116, 15877701, 15878009, 15879039, 15880105, 15880223, 15880631, 15885815, 15885949])"
      ]
     },
     "execution_count": 148,
     "metadata": {},
     "output_type": "execute_result"
    }
   ],
   "source": [
    "lj_fans_bio.keys()"
   ]
  },
  {
   "cell_type": "markdown",
   "metadata": {},
   "source": [
    "### Нужно сделать цикл, который распаковывет словрь и достает значения, которые мы потом сможем структурировать\n",
    "\n",
    "\n",
    "### такого вида:\n",
    "\n",
    "\n",
    "### `lj_fans_bio.get('ЗДЕСЬ ID')`"
   ]
  },
  {
   "cell_type": "code",
   "execution_count": null,
   "metadata": {},
   "outputs": [],
   "source": []
  },
  {
   "cell_type": "code",
   "execution_count": null,
   "metadata": {},
   "outputs": [],
   "source": []
  },
  {
   "cell_type": "code",
   "execution_count": null,
   "metadata": {},
   "outputs": [],
   "source": []
  },
  {
   "cell_type": "code",
   "execution_count": null,
   "metadata": {},
   "outputs": [],
   "source": []
  },
  {
   "cell_type": "markdown",
   "metadata": {},
   "source": [
    "## 1.2 Файл с комментами каждой группы жанра"
   ]
  },
  {
   "cell_type": "markdown",
   "metadata": {},
   "source": [
    "Скачиваем с группы все посты."
   ]
  },
  {
   "cell_type": "code",
   "execution_count": 18,
   "metadata": {},
   "outputs": [],
   "source": [
    "def getPosts(group_id):\n",
    "    \"\"\"\n",
    "        Качает по группе список всех постов, которые в \n",
    "        ней есть и возвращает список из их id \n",
    "    \"\"\"\n",
    "    \n",
    "    post_ids = [ ] # для сбора id\n",
    "    \n",
    "    # Выясним сколько всего в группе постов \n",
    "    n = vkDownload('wall.get','owner_id=-{}'.format(group_id))['response']['count']\n",
    "    print(\"В группе {} должно быть {} постов\".format(group_id,n))\n",
    "    \n",
    "    for i in tqdm_notebook(range(0, n + 100, 100)):\n",
    "        time.sleep(0.3)\n",
    "        \n",
    "        wall = vkDownload('wall.get','owner_id=-{}&count=100&offset='.format(group_id)+str(i))['response']['items']\n",
    "        # если захочется отделить комменты группы от других, есть поле from_id \n",
    "        post_ids.extend([item['id'] for item in wall])\n",
    "        \n",
    "    return post_ids\n",
    "\n",
    "\n",
    "def prepareComments(group_id, posts):\n",
    "    \"\"\"\n",
    "        Мы будем скачивать 25 запросами за раз, эта функция готовит запросы \n",
    "        к последущему использованию, понимая сколько комментов под каким постом, \n",
    "        выкидывая посты с нулевым количеством комментов и делая тройки (группа, пост, оффсет)\n",
    "    \"\"\"\n",
    "\n",
    "    triple_comments = [ ] # для троек (group_id, post_id, offset)\n",
    "\n",
    "    # делаем из всех постов батчи по 25 штук, чтобы было быстрее\n",
    "    posts_batch = makeBatch(posts)\n",
    "\n",
    "    for batch in tqdm_notebook(posts_batch):\n",
    "        time.sleep(0.4)\n",
    "\n",
    "        # готовим запрос для комметов из батча, который выяснит число комментов под постом\n",
    "        begin = 'https://api.vk.com/method/execute?code=return['\n",
    "        end = '];&access_token='+token+'&v=5.78'\n",
    "        middle = ''\n",
    "\n",
    "        # для каждого поста из батча используем метод wall.getComments\n",
    "        for bt in batch:            \n",
    "            middle += 'API.wall.getComments({\"owner_id\":\"-' + str(group_id) + '\",\"post_id\":\"' + str(bt) + '\"}),'\n",
    "\n",
    "        # делаем запрос для текущих 25 комментов\n",
    "        requests.get(begin + middle[:-1] + end)\n",
    "\n",
    "        # выясняем сколько всего комментов под постом \n",
    "        s = requests.get(begin + middle[:-1] + end)\n",
    "        \n",
    "        # по добытой информации готовим запросы на будущее\n",
    "        try:\n",
    "            for post,item in zip(batch, s.json()['response']):\n",
    "                if item is False:\n",
    "                    print('False в посте {} группы {}'.format(post, group_id))\n",
    "                    continue\n",
    "\n",
    "                n = item['count']\n",
    "\n",
    "                # пост с нулевым числом комментов игнорим\n",
    "                if n == 0:\n",
    "                    continue \n",
    "                else:\n",
    "                    # для каждой сотни комментов из-под поста с комментами будет свой запрос для добычи\n",
    "                    for i in range(0, n, 100):\n",
    "                        triple_comments.append((group_id, post, i))\n",
    "        except:\n",
    "            print(\"broken batch\")\n",
    "            continue\n",
    "    return triple_comments\n",
    "\n",
    "\n",
    "def getComments(triple_comments):\n",
    "    \"\"\"\n",
    "        Делит элементы вектора вида (group_id, post_id, offset), \n",
    "        на батчи по 15 штук и качает комменты аки демон\n",
    "    \"\"\"\n",
    "    \n",
    "    comments = [ ] # для сбора комментов \n",
    "\n",
    "    # делаем батчи \n",
    "    precom_batch = makeBatch(triple_comments, 15)\n",
    "\n",
    "    for batch in tqdm_notebook(precom_batch):\n",
    "        time.sleep(0.4)\n",
    "        # клепаем запрос \n",
    "        begin = 'https://api.vk.com/method/execute?code=return['\n",
    "        end = '];&access_token='+token+'&v=5.78'\n",
    "        middle = ''\n",
    "\n",
    "        for bt in batch:            \n",
    "            middle += 'API.wall.getComments({\"owner_id\":\"-' + str(bt[0]) + '\",\"post_id\":\"' + str(bt[1]) + '\",\\\n",
    "            \"need_likes\":\"1\",\"preview_length\":\"0\",\"count\":\"100\",\"offset\":\"'+ str(bt[2])+'\"}),'\n",
    "\n",
    "        # делаем запрос для текущих 20 комментов\n",
    "        s = requests.get(begin + middle[:-1] + end)\n",
    "\n",
    "        # распаковываем добытое добро\n",
    "        \n",
    "        cur_com = [ ]\n",
    "        try:\n",
    "            for item, post in zip(s.json()['response'], batch):\n",
    "                for jtem in item['items']:\n",
    "                    jtem['likes'] = jtem['likes']['count']\n",
    "                    jtem['post_id'] = post[1]\n",
    "                    jtem['group_id'] = post[0]\n",
    "                    cur_com.append(jtem)\n",
    "        except:\n",
    "            pass\n",
    "        comments.extend(cur_com) \n",
    "        \n",
    "    return comments    "
   ]
  },
  {
   "cell_type": "code",
   "execution_count": 19,
   "metadata": {},
   "outputs": [],
   "source": [
    "group_names = {v:k for k,v in target_groups.items()}"
   ]
  },
  {
   "cell_type": "code",
   "execution_count": 21,
   "metadata": {
    "scrolled": true
   },
   "outputs": [
    {
     "name": "stdout",
     "output_type": "stream",
     "text": [
      "В группе 55072656 должно быть 704 постов\n"
     ]
    },
    {
     "data": {
      "application/vnd.jupyter.widget-view+json": {
       "model_id": "b18746767e45496f9d65bd008ae223d6",
       "version_major": 2,
       "version_minor": 0
      },
      "text/plain": [
       "HBox(children=(IntProgress(value=0, max=9), HTML(value='')))"
      ]
     },
     "metadata": {},
     "output_type": "display_data"
    }
   ],
   "source": [
    "unique_comments = { }\n",
    "\n",
    "for name in target_groups:\n",
    "    try:\n",
    "        # качаем посты \n",
    "        group_id = target_groups[name]\n",
    "        posts = getPosts(group_id)\n",
    "\n",
    "        print('Из группы {} имени {} скачалось {} постов'.format(target_groups[name], name, len(posts)))\n",
    "\n",
    "        # готовим батчи из запросов для комментов\n",
    "        triple_comments = prepareComments(group_id, posts)\n",
    "\n",
    "        print('Число запросов: {}'.format(len(triple_comments)))\n",
    "\n",
    "        # качаем комменты\n",
    "        comments = getComments(triple_comments)\n",
    "\n",
    "        setlen = len(set([str(comment['post_id']) + '_' + str(comment['id']) for comment in comments]))\n",
    "        print('Число комментов: {}, из них уникальных: {}'.format(len(comments), setlen ))\n",
    "\n",
    "        # смотрим на десяток последних комментов \n",
    "        for comment in comments[-10:]:\n",
    "            print(comment['post_id'],comment['id'])\n",
    "            print(comment['text'])\n",
    "            print('--------------------')\n",
    "\n",
    "        # записываем накачаное добро в словарик\n",
    "        unique_comments[name] = comments\n",
    "\n",
    "        # Сохраняем ну хоть что-нибудь... \n",
    "        with open('../data/{}_group_comments_{}'.format(music_style, group_names[group_id]), 'wb') as f:\n",
    "            pickle.dump(comments, f)\n",
    "\n",
    "        print('====================================================================')\n",
    "    except KeyboardInterrupt:\n",
    "        break"
   ]
  }
 ],
 "metadata": {
  "kernelspec": {
   "display_name": "Python 3",
   "language": "python",
   "name": "python3"
  },
  "language_info": {
   "codemirror_mode": {
    "name": "ipython",
    "version": 3
   },
   "file_extension": ".py",
   "mimetype": "text/x-python",
   "name": "python",
   "nbconvert_exporter": "python",
   "pygments_lexer": "ipython3",
   "version": "3.7.3"
  },
  "varInspector": {
   "cols": {
    "lenName": 16,
    "lenType": 16,
    "lenVar": 40
   },
   "kernels_config": {
    "python": {
     "delete_cmd_postfix": "",
     "delete_cmd_prefix": "del ",
     "library": "var_list.py",
     "varRefreshCmd": "print(var_dic_list())"
    },
    "r": {
     "delete_cmd_postfix": ") ",
     "delete_cmd_prefix": "rm(",
     "library": "var_list.r",
     "varRefreshCmd": "cat(var_dic_list()) "
    }
   },
   "types_to_exclude": [
    "module",
    "function",
    "builtin_function_or_method",
    "instance",
    "_Feature"
   ],
   "window_display": false
  }
 },
 "nbformat": 4,
 "nbformat_minor": 2
}
