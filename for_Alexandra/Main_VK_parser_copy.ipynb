{
 "cells": [
  {
   "cell_type": "markdown",
   "metadata": {},
   "source": [
    "# 1. Парсер vk\n",
    "\n",
    "Ознакомиться со способами взаимодействия с Вконтакте можно по [ссылке](https://vk.com/dev/manuals) на отличную документацию. Для того, чтобы получить доступ к выгрузке данных, нужно пройти ряд бюрократических процедур.\n",
    "\n",
    "Первая такая процедура заключается в создании своего приложения. Для этого переходим по [ссылке](http://vk.com/editapp?act=create) и проходимся по необходимым шагам:\n",
    "\n",
    "<img align=\"center\" src=\"pictures/app_creation_1.png\" height=\"600\" width=\"600\">\n",
    "\n",
    "После подтверждения своей личности по номеру телефона, попадаем на страницу свежесозданного приложения\n",
    "<img align=\"center\" src=\"pictures/app_creation_2.png\" height=\"600\" width=\"600\">\n",
    "\n",
    "Слева нам будем доступна вкладка с настройками, перейдя в неё мы увидим все необходимые нам для работы с приложением параметры:\n",
    "<img align=\"center\" src=\"pictures/app_creation_3.png\" height=\"600\" width=\"600\">\n",
    "\n",
    "\n",
    "Для работы с частью методов API этого вполне достаточно (обычно в заголовке такого метода стоит соответствующая пометка). Для части методов, используемых нами, может понадобиться ключ доступа.\n",
    "\n",
    "Для того, чтобы получить его, необходимо сделать ещё пару странных манипуляций:\n",
    "\n",
    "Переходим по ссылке вида (на месте звездочек должен стоять ID созданного вами приложения):\n",
    "\n",
    "> https://oauth.vk.com/authorize?client_id=**********&scope=14&redirect_uri=https://oauth.vk.com/blank.html&display=page&v=5.16&response_type=token\n",
    "\n",
    "<img align=\"center\" src=\"pictures/app_creation_4.png\" height=\"600\" width=\"600\">\n",
    "\n",
    "В итоге по этому запросу будет сформирована ссылка следующего вида:\n",
    "> https://oauth.vk.com/blank.html#access_token=25b636116ef40e0718fe4d9f382544fc28&expires_in=86400&user_id=*******\n",
    "\n",
    "Первый набор знаков - access token, т.е. маркер доступа. Вторая цифра (expires_in=) время работы маркера доступа в секундах (одни сутки). По истечению суток нужно будет получить новый маркер доступа. Последняя цифра (user_id=) ваш ID Вконтакте. Нам в дальнейшем понадобится маркер доступа. Для удобства сохраним его в отдельном файле или экспортируем в глобальную область видимости. В целях безопасности ваших данных не стоит нигде светить токенами и тем более выкладывать их в открытый доступ.\n",
    "\n",
    "Обратите внимание на ссылку, по которой мы делали запрос на предоставление токена. Внутри неё находится странный параметр scope=14. Эта загадочная цифра есть ничто иное, как права доступа к социальной сети. Подробнее познакомиться с взаимно-однозначным соответствием между числами и правами можно в документации. Например, если мы хотим получить доступ к друзьям, фото и аудио, мы подставим в scope цифру 2+4+8=14."
   ]
  },
  {
   "cell_type": "code",
   "execution_count": 1,
   "metadata": {},
   "outputs": [],
   "source": [
    "# Загружаем необходимые библиотеки\n",
    "\n",
    "import datetime                  # Пакет для работы с временными форматами\n",
    "import pickle                    # Пакет для подгрузки данных специфического для питона формата\n",
    "import requests                  # Пакет для скачки данных из этих ваших интернетов\n",
    "import pandas as pd              # Пакет для работы с таблицами\n",
    "import numpy as np               # Пакет для работы с векторами и матрицами\n",
    "import matplotlib.pyplot as plt  # Пакет для строительства графиков\n",
    "import time            # Пакет для работы со временем. Например, помогает ставить заглушки \n",
    "                       # time.sleep(секунды), необходимые для того что ВК не банил нашего\n",
    "                       # сборщика данных из-за слишком частых запросов\n",
    "        \n",
    "# Пакет для красивых циклов. При желании его можно отключить. Тогда из всех циклов придётся \n",
    "# удалять команду tqdm_notebook.\n",
    "from tqdm import tqdm_notebook   # подробнее: https://github.com/tqdm/tqdm"
   ]
  },
  {
   "cell_type": "code",
   "execution_count": 6,
   "metadata": {},
   "outputs": [],
   "source": [
    "# мой номер странички\n",
    "my_user_id = 371834160\n",
    "# версия используемого API\n",
    "version = '5.103' \n",
    "\n",
    "# подгружаем токен\n",
    "with open('C:/Users/Asus/GitHab_repos/vk_at.txt') as f:\n",
    "    token = f.read()"
   ]
  },
  {
   "cell_type": "code",
   "execution_count": 7,
   "metadata": {},
   "outputs": [
    {
     "data": {
      "text/plain": [
       "{'response': [{'id': 371834160,\n",
       "   'first_name': 'Sergei',\n",
       "   'last_name': 'Korneev',\n",
       "   'is_closed': False,\n",
       "   'can_access_closed': True}]}"
      ]
     },
     "execution_count": 7,
     "metadata": {},
     "output_type": "execute_result"
    }
   ],
   "source": [
    "def vkDownload(method, parameters, token=token, version=version):\n",
    "    \"\"\"\n",
    "        Возвращает результат запроса по методу\n",
    "        \n",
    "        method: string\n",
    "            метод из документации, который хотим использовать\n",
    "            \n",
    "        parameters: string\n",
    "            параметры используемого метода\n",
    "            \n",
    "        token: string\n",
    "            токен Oauth доступа\n",
    "        \n",
    "        version: string\n",
    "            версия API\n",
    "    \"\"\"\n",
    "    \n",
    "    \n",
    "    # составляем ссылку\n",
    "    url = 'https://api.vk.com/method/{method}?{parameters}&access_token={token}&v={version}'\n",
    "    url = url.format(method=method, parameters=parameters, token=token, version=version)\n",
    "    # запрашиваем ссылку и переводим в json (словарь)\n",
    "    response = requests.get(url).json()\n",
    "    \n",
    "    \n",
    "    return response\n",
    "\n",
    "vkDownload('users.get','user_ids=371834160')    "
   ]
  },
  {
   "cell_type": "code",
   "execution_count": 8,
   "metadata": {},
   "outputs": [
    {
     "ename": "NameError",
     "evalue": "name 'response' is not defined",
     "output_type": "error",
     "traceback": [
      "\u001b[1;31m---------------------------------------------------------------------------\u001b[0m",
      "\u001b[1;31mNameError\u001b[0m                                 Traceback (most recent call last)",
      "\u001b[1;32m<ipython-input-8-75994f45f7eb>\u001b[0m in \u001b[0;36m<module>\u001b[1;34m\u001b[0m\n\u001b[1;32m----> 1\u001b[1;33m \u001b[0mresponse\u001b[0m\u001b[1;33m[\u001b[0m\u001b[1;34m'response'\u001b[0m\u001b[1;33m]\u001b[0m\u001b[1;33m\u001b[0m\u001b[1;33m\u001b[0m\u001b[0m\n\u001b[0m",
      "\u001b[1;31mNameError\u001b[0m: name 'response' is not defined"
     ]
    }
   ],
   "source": [
    "response['response']"
   ]
  },
  {
   "cell_type": "code",
   "execution_count": 3,
   "metadata": {},
   "outputs": [],
   "source": [
    "def makeBatch(uids, size=25):\n",
    "    \"\"\"\n",
    "        Возвращает лист листов из пользователей, батчами по size человек \n",
    "        По умолчанию size=25\n",
    "    \"\"\"\n",
    "    batches = [uids[i:i + size] for i in range(0,len(uids),size)]\n",
    "    \n",
    "    return batches "
   ]
  },
  {
   "cell_type": "markdown",
   "metadata": {},
   "source": [
    "## 1.1 Подписчики каждой группы для жанра"
   ]
  },
  {
   "cell_type": "code",
   "execution_count": 5,
   "metadata": {},
   "outputs": [],
   "source": [
    "music_style = 'rhh'\n",
    "\n",
    "target_groups={\n",
    "    'lizer' : '117382436',\n",
    "    'morgenshtern' : '123675921',\n",
    "    'face' : '95470601',\n",
    "    'lj' : '41623203'\n",
    "    }"
   ]
  },
  {
   "cell_type": "code",
   "execution_count": 7,
   "metadata": {},
   "outputs": [],
   "source": [
    "# слоаврь группа-юзеры\n",
    "group_users_dct = {}"
   ]
  },
  {
   "cell_type": "markdown",
   "metadata": {},
   "source": [
    "Перед тем, как сохранять юзеров, надо профильтровать их на предмет существования... "
   ]
  },
  {
   "cell_type": "code",
   "execution_count": 8,
   "metadata": {},
   "outputs": [],
   "source": [
    "def checkExisting(uids):\n",
    "    \"\"\"\n",
    "        Проверяет существование id и оставляет только не удаленные \n",
    "    \"\"\"\n",
    "    \n",
    "    cur_inf = vkDownload('users.get','user_ids={}'.format(','.join(str(e) for e in uids)))\n",
    "    cur_inf = cur_inf['response']\n",
    "    clean_members = [us_inf['id'] for us_inf in cur_inf if us_inf.get('deactivated','real') == 'real']\n",
    "    return clean_members\n",
    "\n",
    "\n",
    "def getGroupMembers(group_id):\n",
    "    \"\"\"\n",
    "        Возвращает список всех пользователей данной группы\n",
    "        Итерации идут батчами по 1000 пользователей\n",
    "        \n",
    "        group_id: string\n",
    "            идентификатор группы (ссылка)\n",
    "    \"\"\"\n",
    "    \n",
    "    # Узнаём число запросов, которое надо сделать \n",
    "    count = vkDownload('groups.getMembers','group_id=' + group_id)['response']['count']\n",
    "    \n",
    "    # сэплируем число подписчиков, которые мы хотим вытащить\n",
    "    # берём либо 10%, либо 100 000, смотря что больше\n",
    "    n_sampled = int(max(0.1 * count, min(count, 100000)))\n",
    "    print(\"Общее число пользователей: {}\\nСэмплированное число пользователей: {}\".format(count, n_sampled))\n",
    "    \n",
    "    # выясняем, сколько запросов нам понадобится\n",
    "    n = np.linspace(0, count/1000, num=n_sampled/1000).astype(int)\n",
    "    \n",
    "    #n = int(np.ceil(count/1000))  \n",
    "    \n",
    "    # вектор, где мы будем хранить id пользователей\n",
    "    members = []     \n",
    "    \n",
    "    for i in tqdm_notebook(n): \n",
    "        try:\n",
    "            # при помощи метода groups.getMembers получаем пользователей группы\n",
    "            current_members = vkDownload('groups.getMembers','group_id='+group_id+'&offset='+str(1000*i))\n",
    "            current_members = current_members['response']['items']\n",
    "        \n",
    "            # проверим реально ли существуют все юзеры из списка выше\n",
    "            for i in range(0,1000,200):\n",
    "                time.sleep(0.3)\n",
    "                members.extend(checkExisting(current_members[i:i+200]))\n",
    "\n",
    "            # перед следующим запросом немножко подождем\n",
    "            time.sleep(0.3)\n",
    "        except Exception as e:\n",
    "            print(e)\n",
    "            next\n",
    "        \n",
    "    return members"
   ]
  },
  {
   "cell_type": "code",
   "execution_count": 9,
   "metadata": {
    "scrolled": true
   },
   "outputs": [
    {
     "data": {
      "application/vnd.jupyter.widget-view+json": {
       "model_id": "f3e444ea6c404099a8fc4568098754f8",
       "version_major": 2,
       "version_minor": 0
      },
      "text/plain": [
       "HBox(children=(IntProgress(value=0, max=4), HTML(value='')))"
      ]
     },
     "metadata": {},
     "output_type": "display_data"
    },
    {
     "name": "stdout",
     "output_type": "stream",
     "text": [
      "Общее число пользователей: 458192\n",
      "Сэмплированное число пользователей: 100000\n"
     ]
    },
    {
     "name": "stderr",
     "output_type": "stream",
     "text": [
      "C:\\Users\\Asus\\Anaconda3\\lib\\site-packages\\ipykernel_launcher.py:30: DeprecationWarning: object of type <class 'float'> cannot be safely interpreted as an integer.\n"
     ]
    },
    {
     "data": {
      "application/vnd.jupyter.widget-view+json": {
       "model_id": "33a524699b3c41429046d6db005e1659",
       "version_major": 2,
       "version_minor": 0
      },
      "text/plain": [
       "HBox(children=(IntProgress(value=0), HTML(value='')))"
      ]
     },
     "metadata": {},
     "output_type": "display_data"
    },
    {
     "name": "stdout",
     "output_type": "stream",
     "text": [
      "lizer : 97394\n",
      "Общее число пользователей: 1294128\n",
      "Сэмплированное число пользователей: 129412\n"
     ]
    },
    {
     "data": {
      "application/vnd.jupyter.widget-view+json": {
       "model_id": "387f364f3d254959acf5751e034e3174",
       "version_major": 2,
       "version_minor": 0
      },
      "text/plain": [
       "HBox(children=(IntProgress(value=0, max=129), HTML(value='')))"
      ]
     },
     "metadata": {},
     "output_type": "display_data"
    },
    {
     "name": "stdout",
     "output_type": "stream",
     "text": [
      "morgenshtern : 117586\n",
      "Общее число пользователей: 939281\n",
      "Сэмплированное число пользователей: 100000\n"
     ]
    },
    {
     "data": {
      "application/vnd.jupyter.widget-view+json": {
       "model_id": "48c6ff1d7a6c4ea382bc0f5eac853543",
       "version_major": 2,
       "version_minor": 0
      },
      "text/plain": [
       "HBox(children=(IntProgress(value=0), HTML(value='')))"
      ]
     },
     "metadata": {},
     "output_type": "display_data"
    },
    {
     "name": "stdout",
     "output_type": "stream",
     "text": [
      "face : 84548\n",
      "Общее число пользователей: 1463981\n",
      "Сэмплированное число пользователей: 146398\n"
     ]
    },
    {
     "data": {
      "application/vnd.jupyter.widget-view+json": {
       "model_id": "5096f81a155c405fb7815c298c727179",
       "version_major": 2,
       "version_minor": 0
      },
      "text/plain": [
       "HBox(children=(IntProgress(value=0, max=146), HTML(value='')))"
      ]
     },
     "metadata": {},
     "output_type": "display_data"
    },
    {
     "name": "stdout",
     "output_type": "stream",
     "text": [
      "lj : 121935\n",
      "\n"
     ]
    }
   ],
   "source": [
    "# по каждому id группы сохраняем подписчиков \n",
    "for k,v in tqdm_notebook(target_groups.items()):\n",
    "    try:\n",
    "        members = getGroupMembers(target_groups[k]) \n",
    "        print(k,':',len(members))\n",
    "        group_users_dct[k] = members\n",
    "    except KeyboardInterrupt:\n",
    "        break"
   ]
  },
  {
   "cell_type": "code",
   "execution_count": 12,
   "metadata": {},
   "outputs": [],
   "source": [
    "# Сохраняем словарик для текущего жанра \n",
    "with open('{}_group_users'.format(music_style), 'wb') as f:\n",
    "    pickle.dump(group_users_dct, f)"
   ]
  },
  {
   "cell_type": "code",
   "execution_count": 9,
   "metadata": {},
   "outputs": [
    {
     "ename": "NameError",
     "evalue": "name 'music_style' is not defined",
     "output_type": "error",
     "traceback": [
      "\u001b[1;31m---------------------------------------------------------------------------\u001b[0m",
      "\u001b[1;31mNameError\u001b[0m                                 Traceback (most recent call last)",
      "\u001b[1;32m<ipython-input-9-64b2d52b301b>\u001b[0m in \u001b[0;36m<module>\u001b[1;34m\u001b[0m\n\u001b[1;32m----> 1\u001b[1;33m \u001b[1;32mwith\u001b[0m \u001b[0mopen\u001b[0m\u001b[1;33m(\u001b[0m\u001b[1;34m'{}_group_users'\u001b[0m\u001b[1;33m.\u001b[0m\u001b[0mformat\u001b[0m\u001b[1;33m(\u001b[0m\u001b[0mmusic_style\u001b[0m\u001b[1;33m)\u001b[0m\u001b[1;33m,\u001b[0m \u001b[1;34m'rb'\u001b[0m\u001b[1;33m)\u001b[0m \u001b[1;32mas\u001b[0m \u001b[0mf\u001b[0m\u001b[1;33m:\u001b[0m\u001b[1;33m\u001b[0m\u001b[1;33m\u001b[0m\u001b[0m\n\u001b[0m\u001b[0;32m      2\u001b[0m     \u001b[0mgroup_users_dct\u001b[0m \u001b[1;33m=\u001b[0m \u001b[0mpickle\u001b[0m\u001b[1;33m.\u001b[0m\u001b[0mload\u001b[0m\u001b[1;33m(\u001b[0m\u001b[0mf\u001b[0m\u001b[1;33m)\u001b[0m\u001b[1;33m\u001b[0m\u001b[1;33m\u001b[0m\u001b[0m\n",
      "\u001b[1;31mNameError\u001b[0m: name 'music_style' is not defined"
     ]
    }
   ],
   "source": [
    "with open('{}_group_users'.format(music_style), 'rb') as f:\n",
    "    group_users_dct = pickle.load(f)"
   ]
  },
  {
   "cell_type": "code",
   "execution_count": 7,
   "metadata": {},
   "outputs": [
    {
     "data": {
      "text/plain": [
       "[3330, 3450, 8015, 17212, 30488]"
      ]
     },
     "execution_count": 7,
     "metadata": {},
     "output_type": "execute_result"
    }
   ],
   "source": [
    "# первые 5 фанатов Элджея:\n",
    "\n",
    "group_users_dct['morgenshtern'][:5]"
   ]
  },
  {
   "cell_type": "code",
   "execution_count": 1,
   "metadata": {},
   "outputs": [
    {
     "ename": "NameError",
     "evalue": "name 'token' is not defined",
     "output_type": "error",
     "traceback": [
      "\u001b[1;31m---------------------------------------------------------------------------\u001b[0m",
      "\u001b[1;31mNameError\u001b[0m                                 Traceback (most recent call last)",
      "\u001b[1;32m<ipython-input-1-ef523d26e7f5>\u001b[0m in \u001b[0;36m<module>\u001b[1;34m\u001b[0m\n\u001b[1;32m----> 1\u001b[1;33m \u001b[1;32mdef\u001b[0m \u001b[0mvk_download\u001b[0m\u001b[1;33m(\u001b[0m\u001b[0mmethod\u001b[0m\u001b[1;33m,\u001b[0m\u001b[0mparameters\u001b[0m\u001b[1;33m,\u001b[0m\u001b[0mtoken\u001b[0m \u001b[1;33m=\u001b[0m \u001b[0mtoken\u001b[0m\u001b[1;33m,\u001b[0m\u001b[0mversion\u001b[0m\u001b[1;33m=\u001b[0m\u001b[0mversion\u001b[0m\u001b[1;33m)\u001b[0m\u001b[1;33m:\u001b[0m\u001b[1;33m\u001b[0m\u001b[1;33m\u001b[0m\u001b[0m\n\u001b[0m\u001b[0;32m      2\u001b[0m     \u001b[0murl\u001b[0m \u001b[1;33m=\u001b[0m \u001b[1;34m'https://api.vk.com/method/{method}?{parameters}&access_token={token}&v={version}'\u001b[0m\u001b[1;33m\u001b[0m\u001b[1;33m\u001b[0m\u001b[0m\n\u001b[0;32m      3\u001b[0m     \u001b[0murl\u001b[0m \u001b[1;33m=\u001b[0m \u001b[0murl\u001b[0m\u001b[1;33m.\u001b[0m\u001b[0mformat\u001b[0m\u001b[1;33m(\u001b[0m\u001b[0mmethod\u001b[0m\u001b[1;33m=\u001b[0m\u001b[0mmethod\u001b[0m\u001b[1;33m,\u001b[0m \u001b[0mparameters\u001b[0m\u001b[1;33m=\u001b[0m\u001b[0mparameters\u001b[0m\u001b[1;33m,\u001b[0m \u001b[0mtoken\u001b[0m\u001b[1;33m=\u001b[0m\u001b[0mtoken\u001b[0m\u001b[1;33m,\u001b[0m \u001b[0mversion\u001b[0m\u001b[1;33m=\u001b[0m\u001b[0mversion\u001b[0m\u001b[1;33m)\u001b[0m\u001b[1;33m\u001b[0m\u001b[1;33m\u001b[0m\u001b[0m\n\u001b[0;32m      4\u001b[0m \u001b[1;31m#     response =\u001b[0m\u001b[1;33m\u001b[0m\u001b[1;33m\u001b[0m\u001b[1;33m\u001b[0m\u001b[0m\n\u001b[0;32m      5\u001b[0m     \u001b[1;32mreturn\u001b[0m \u001b[0mrequests\u001b[0m\u001b[1;33m.\u001b[0m\u001b[0mget\u001b[0m\u001b[1;33m(\u001b[0m\u001b[0murl\u001b[0m\u001b[1;33m)\u001b[0m\u001b[1;33m.\u001b[0m\u001b[0mjson\u001b[0m\u001b[1;33m(\u001b[0m\u001b[1;33m)\u001b[0m\u001b[1;33m\u001b[0m\u001b[1;33m\u001b[0m\u001b[0m\n",
      "\u001b[1;31mNameError\u001b[0m: name 'token' is not defined"
     ]
    }
   ],
   "source": [
    "def vk_download(method,parameters,token = token,version=version):\n",
    "    url = 'https://api.vk.com/method/{method}?{parameters}&access_token={token}&v={version}'\n",
    "    url = url.format(method=method, parameters=parameters, token=token, version=version)\n",
    "#     response = \n",
    "    return requests.get(url).json()\n",
    "\n",
    "morgenshtern_fans_bio = { }   \n",
    "\n",
    "# что скачиваем\n",
    "fields = 'photo_id,sex,bdate,city,country,home_town,education,universities,schools,status,followers_count,occupation,interests,movies,tv,books,games'\n",
    "\n",
    "for id_ in tqdm_notebook(group_users_dct['morgenshtern'][:1000]): \n",
    "    time.sleep(0.4)   # Не забываем отдохнуть между запросами, чтобы вк не злился! \n",
    "    try:\n",
    "        res = vk_download('users.get','user_ids='+str(id_)+'&fields=' + fields)['response'][0]\n",
    "       \n",
    "        # закидываем новую информацию в словарик \n",
    "        morgenshtern_fans_bio[id_] = res   \n",
    "    except:\n",
    "        # Если скачка не удалась, выведем сообщение об ошибке\n",
    "        # (По идее, мы хорошо обработали до этого всех юзеров и ошибок не будет)\n",
    "        print('Ощибка с ', id_)\n"
   ]
  },
  {
   "cell_type": "markdown",
   "metadata": {},
   "source": [
    "### Сохранить на диск"
   ]
  },
  {
   "cell_type": "code",
   "execution_count": 149,
   "metadata": {},
   "outputs": [],
   "source": [
    "with open('lizer_fans_bio', 'wb') as f:\n",
    "    pickle.dump(lizer_fans_bio, f)"
   ]
  },
  {
   "cell_type": "markdown",
   "metadata": {},
   "source": [
    "### Открыть"
   ]
  },
  {
   "cell_type": "code",
   "execution_count": 97,
   "metadata": {},
   "outputs": [],
   "source": [
    "# мой номер странички\n",
    "my_user_id = 371834160\n",
    "# версия используемого API\n",
    "version = '5.103' \n",
    "\n",
    "# подгружаем токен\n",
    "with open('C:/Users/Asus/GitHab_repos/vk_at.txt') as f:\n",
    "    token = f.read()"
   ]
  },
  {
   "cell_type": "code",
   "execution_count": 99,
   "metadata": {},
   "outputs": [],
   "source": [
    "def vkDownload(method, parameters, token=token, version=version):\n",
    "    \"\"\"\n",
    "        Возвращает результат запроса по методу\n",
    "        \n",
    "        method: string\n",
    "            метод из документации, который хотим использовать\n",
    "            \n",
    "        parameters: string\n",
    "            параметры используемого метода\n",
    "            \n",
    "        token: string\n",
    "            токен Oauth доступа\n",
    "        \n",
    "        version: string\n",
    "            версия API\n",
    "    \"\"\"\n",
    "    \n",
    "    \n",
    "    # составляем ссылку\n",
    "    url = 'https://api.vk.com/method/{method}?{parameters}&access_token={token}&v={version}'\n",
    "    url = url.format(method=method, parameters=parameters, token=token, version=version)\n",
    "    # запрашиваем ссылку и переводим в json (словарь)\n",
    "    response = requests.get(url).json()\n",
    "    \n",
    "    \n",
    "    return response"
   ]
  },
  {
   "cell_type": "code",
   "execution_count": 59,
   "metadata": {},
   "outputs": [],
   "source": [
    "import pickle\n",
    "with open('lj_fans_bio', 'rb') as f:\n",
    "    lj_fans_bio = pickle.load(f)"
   ]
  },
  {
   "cell_type": "code",
   "execution_count": 60,
   "metadata": {},
   "outputs": [],
   "source": [
    "lj_fans_ids = []\n",
    "\n",
    "for i in lj_fans_bio:\n",
    "    lj_fans_ids.append(i)"
   ]
  },
  {
   "cell_type": "code",
   "execution_count": 62,
   "metadata": {},
   "outputs": [],
   "source": [
    "lj_fans_photo_ids = []\n",
    "\n",
    "for i in lj_fans_ids:\n",
    "    for k,v in lj_fans_bio[i].items():\n",
    "        if k == 'photo_id':\n",
    "            lj_fans_photo_ids.append(v)"
   ]
  },
  {
   "cell_type": "code",
   "execution_count": 98,
   "metadata": {},
   "outputs": [],
   "source": [
    "# lj_fans_photo_ids"
   ]
  },
  {
   "cell_type": "code",
   "execution_count": 105,
   "metadata": {},
   "outputs": [
    {
     "data": {
      "text/plain": [
       "{'error': {'error_code': 100,\n",
       "  'error_msg': 'One of the parameters specified was missing or invalid: type is undefined',\n",
       "  'request_params': [{'key': 'photo628_456239032', 'value': ''},\n",
       "   {'key': 'v', 'value': '5.103'},\n",
       "   {'key': 'method', 'value': 'likes.getList'},\n",
       "   {'key': 'oauth', 'value': '1'}]}}"
      ]
     },
     "execution_count": 105,
     "metadata": {},
     "output_type": "execute_result"
    }
   ],
   "source": [
    "vkDownload('likes.getList','photo628_456239032')"
   ]
  },
  {
   "cell_type": "code",
   "execution_count": null,
   "metadata": {},
   "outputs": [],
   "source": []
  },
  {
   "cell_type": "code",
   "execution_count": null,
   "metadata": {},
   "outputs": [],
   "source": [
    "\n",
    "\n",
    "vkDownload('users.get','user_ids=371834160')   "
   ]
  },
  {
   "cell_type": "code",
   "execution_count": 125,
   "metadata": {},
   "outputs": [
    {
     "data": {
      "text/plain": [
       "{'error': {'error_code': 8,\n",
       "  'error_msg': 'Invalid request: v is required. Version param should be passed as \"v\". \"version\" param is invalid and not supported.',\n",
       "  'request_params': [{'key': 'user_ids', 'value': '6045249'},\n",
       "   {'key': 'method', 'value': 'users.get'},\n",
       "   {'key': 'oauth', 'value': '1'}]}}"
      ]
     },
     "execution_count": 125,
     "metadata": {},
     "output_type": "execute_result"
    }
   ],
   "source": [
    "url = \"https://api.vk.com/method/users.get?user_ids=6045249&access_token=\"+str(token)\n",
    "response = requests.get(url) \n",
    "response"
   ]
  },
  {
   "cell_type": "code",
   "execution_count": 122,
   "metadata": {},
   "outputs": [],
   "source": [
    "def vk_download(method, parameters, token = token):\n",
    "    url = 'https://api.vk.com/method/'+method+'?'+parameters+'&access_token='+str(token)\n",
    "    response = requests.get(url) \n",
    "    return(response.json())"
   ]
  },
  {
   "cell_type": "code",
   "execution_count": 123,
   "metadata": {},
   "outputs": [],
   "source": [
    "def Get_Wall(this_id):\n",
    "    \n",
    "    # Качаем со стены все записи!\n",
    "    chto_on_postit = [ ]\n",
    "    for i in range(10,100):\n",
    "        # Качаем внеочередные 100 записей со стены.\n",
    "        time.sleep(0.4) # Не забываем немного вздремнуть \n",
    "        # Первый элемент всегда число записей, игнорируем его \n",
    "        wall = vk_download('wall.get', 'owner_id=' + str(this_id) +'&count=100&offset='+str(i))['response'][1:]\n",
    "        chto_on_postit.extend(wall)\n",
    "        \n",
    "    # В файлике chto_on post"
   ]
  },
  {
   "cell_type": "code",
   "execution_count": 124,
   "metadata": {},
   "outputs": [
    {
     "ename": "KeyError",
     "evalue": "'response'",
     "output_type": "error",
     "traceback": [
      "\u001b[1;31m---------------------------------------------------------------------------\u001b[0m",
      "\u001b[1;31mKeyError\u001b[0m                                  Traceback (most recent call last)",
      "\u001b[1;32m<ipython-input-124-18bf36bec1ba>\u001b[0m in \u001b[0;36m<module>\u001b[1;34m\u001b[0m\n\u001b[1;32m----> 1\u001b[1;33m \u001b[0ma\u001b[0m \u001b[1;33m=\u001b[0m \u001b[0mGet_Wall\u001b[0m\u001b[1;33m(\u001b[0m\u001b[1;34m'628'\u001b[0m\u001b[1;33m)\u001b[0m\u001b[1;33m\u001b[0m\u001b[1;33m\u001b[0m\u001b[0m\n\u001b[0m",
      "\u001b[1;32m<ipython-input-123-760dcdb11648>\u001b[0m in \u001b[0;36mGet_Wall\u001b[1;34m(this_id)\u001b[0m\n\u001b[0;32m      7\u001b[0m         \u001b[0mtime\u001b[0m\u001b[1;33m.\u001b[0m\u001b[0msleep\u001b[0m\u001b[1;33m(\u001b[0m\u001b[1;36m0.4\u001b[0m\u001b[1;33m)\u001b[0m \u001b[1;31m# Не забываем немного вздремнуть\u001b[0m\u001b[1;33m\u001b[0m\u001b[1;33m\u001b[0m\u001b[0m\n\u001b[0;32m      8\u001b[0m         \u001b[1;31m# Первый элемент всегда число записей, игнорируем его\u001b[0m\u001b[1;33m\u001b[0m\u001b[1;33m\u001b[0m\u001b[1;33m\u001b[0m\u001b[0m\n\u001b[1;32m----> 9\u001b[1;33m         \u001b[0mwall\u001b[0m \u001b[1;33m=\u001b[0m \u001b[0mvk_download\u001b[0m\u001b[1;33m(\u001b[0m\u001b[1;34m'wall.get'\u001b[0m\u001b[1;33m,\u001b[0m \u001b[1;34m'owner_id='\u001b[0m \u001b[1;33m+\u001b[0m \u001b[0mstr\u001b[0m\u001b[1;33m(\u001b[0m\u001b[0mthis_id\u001b[0m\u001b[1;33m)\u001b[0m \u001b[1;33m+\u001b[0m\u001b[1;34m'&count=100&offset='\u001b[0m\u001b[1;33m+\u001b[0m\u001b[0mstr\u001b[0m\u001b[1;33m(\u001b[0m\u001b[0mi\u001b[0m\u001b[1;33m)\u001b[0m\u001b[1;33m)\u001b[0m\u001b[1;33m[\u001b[0m\u001b[1;34m'response'\u001b[0m\u001b[1;33m]\u001b[0m\u001b[1;33m[\u001b[0m\u001b[1;36m1\u001b[0m\u001b[1;33m:\u001b[0m\u001b[1;33m]\u001b[0m\u001b[1;33m\u001b[0m\u001b[1;33m\u001b[0m\u001b[0m\n\u001b[0m\u001b[0;32m     10\u001b[0m         \u001b[0mchto_on_postit\u001b[0m\u001b[1;33m.\u001b[0m\u001b[0mextend\u001b[0m\u001b[1;33m(\u001b[0m\u001b[0mwall\u001b[0m\u001b[1;33m)\u001b[0m\u001b[1;33m\u001b[0m\u001b[1;33m\u001b[0m\u001b[0m\n\u001b[0;32m     11\u001b[0m \u001b[1;33m\u001b[0m\u001b[0m\n",
      "\u001b[1;31mKeyError\u001b[0m: 'response'"
     ]
    }
   ],
   "source": [
    "a = Get_Wall('628')"
   ]
  },
  {
   "cell_type": "code",
   "execution_count": null,
   "metadata": {},
   "outputs": [],
   "source": []
  },
  {
   "cell_type": "code",
   "execution_count": null,
   "metadata": {},
   "outputs": [],
   "source": []
  },
  {
   "cell_type": "code",
   "execution_count": null,
   "metadata": {},
   "outputs": [],
   "source": []
  },
  {
   "cell_type": "code",
   "execution_count": null,
   "metadata": {},
   "outputs": [],
   "source": []
  },
  {
   "cell_type": "markdown",
   "metadata": {},
   "source": [
    "## 1.2 Файл с комментами каждой группы жанра"
   ]
  },
  {
   "cell_type": "markdown",
   "metadata": {},
   "source": [
    "Скачиваем с группы все посты."
   ]
  },
  {
   "cell_type": "code",
   "execution_count": 18,
   "metadata": {},
   "outputs": [],
   "source": [
    "def getPosts(group_id):\n",
    "    \"\"\"\n",
    "        Качает по группе список всех постов, которые в \n",
    "        ней есть и возвращает список из их id \n",
    "    \"\"\"\n",
    "    \n",
    "    post_ids = [ ] # для сбора id\n",
    "    \n",
    "    # Выясним сколько всего в группе постов \n",
    "    n = vkDownload('wall.get','owner_id=-{}'.format(group_id))['response']['count']\n",
    "    print(\"В группе {} должно быть {} постов\".format(group_id,n))\n",
    "    \n",
    "    for i in tqdm_notebook(range(0, n + 100, 100)):\n",
    "        time.sleep(0.3)\n",
    "        \n",
    "        wall = vkDownload('wall.get','owner_id=-{}&count=100&offset='.format(group_id)+str(i))['response']['items']\n",
    "        # если захочется отделить комменты группы от других, есть поле from_id \n",
    "        post_ids.extend([item['id'] for item in wall])\n",
    "        \n",
    "    return post_ids\n",
    "\n",
    "\n",
    "def prepareComments(group_id, posts):\n",
    "    \"\"\"\n",
    "        Мы будем скачивать 25 запросами за раз, эта функция готовит запросы \n",
    "        к последущему использованию, понимая сколько комментов под каким постом, \n",
    "        выкидывая посты с нулевым количеством комментов и делая тройки (группа, пост, оффсет)\n",
    "    \"\"\"\n",
    "\n",
    "    triple_comments = [ ] # для троек (group_id, post_id, offset)\n",
    "\n",
    "    # делаем из всех постов батчи по 25 штук, чтобы было быстрее\n",
    "    posts_batch = makeBatch(posts)\n",
    "\n",
    "    for batch in tqdm_notebook(posts_batch):\n",
    "        time.sleep(0.4)\n",
    "\n",
    "        # готовим запрос для комметов из батча, который выяснит число комментов под постом\n",
    "        begin = 'https://api.vk.com/method/execute?code=return['\n",
    "        end = '];&access_token='+token+'&v=5.78'\n",
    "        middle = ''\n",
    "\n",
    "        # для каждого поста из батча используем метод wall.getComments\n",
    "        for bt in batch:            \n",
    "            middle += 'API.wall.getComments({\"owner_id\":\"-' + str(group_id) + '\",\"post_id\":\"' + str(bt) + '\"}),'\n",
    "\n",
    "        # делаем запрос для текущих 25 комментов\n",
    "        requests.get(begin + middle[:-1] + end)\n",
    "\n",
    "        # выясняем сколько всего комментов под постом \n",
    "        s = requests.get(begin + middle[:-1] + end)\n",
    "        \n",
    "        # по добытой информации готовим запросы на будущее\n",
    "        try:\n",
    "            for post,item in zip(batch, s.json()['response']):\n",
    "                if item is False:\n",
    "                    print('False в посте {} группы {}'.format(post, group_id))\n",
    "                    continue\n",
    "\n",
    "                n = item['count']\n",
    "\n",
    "                # пост с нулевым числом комментов игнорим\n",
    "                if n == 0:\n",
    "                    continue \n",
    "                else:\n",
    "                    # для каждой сотни комментов из-под поста с комментами будет свой запрос для добычи\n",
    "                    for i in range(0, n, 100):\n",
    "                        triple_comments.append((group_id, post, i))\n",
    "        except:\n",
    "            print(\"broken batch\")\n",
    "            continue\n",
    "    return triple_comments\n",
    "\n",
    "\n",
    "def getComments(triple_comments):\n",
    "    \"\"\"\n",
    "        Делит элементы вектора вида (group_id, post_id, offset), \n",
    "        на батчи по 15 штук и качает комменты аки демон\n",
    "    \"\"\"\n",
    "    \n",
    "    comments = [ ] # для сбора комментов \n",
    "\n",
    "    # делаем батчи \n",
    "    precom_batch = makeBatch(triple_comments, 15)\n",
    "\n",
    "    for batch in tqdm_notebook(precom_batch):\n",
    "        time.sleep(0.4)\n",
    "        # клепаем запрос \n",
    "        begin = 'https://api.vk.com/method/execute?code=return['\n",
    "        end = '];&access_token='+token+'&v=5.78'\n",
    "        middle = ''\n",
    "\n",
    "        for bt in batch:            \n",
    "            middle += 'API.wall.getComments({\"owner_id\":\"-' + str(bt[0]) + '\",\"post_id\":\"' + str(bt[1]) + '\",\\\n",
    "            \"need_likes\":\"1\",\"preview_length\":\"0\",\"count\":\"100\",\"offset\":\"'+ str(bt[2])+'\"}),'\n",
    "\n",
    "        # делаем запрос для текущих 20 комментов\n",
    "        s = requests.get(begin + middle[:-1] + end)\n",
    "\n",
    "        # распаковываем добытое добро\n",
    "        \n",
    "        cur_com = [ ]\n",
    "        try:\n",
    "            for item, post in zip(s.json()['response'], batch):\n",
    "                for jtem in item['items']:\n",
    "                    jtem['likes'] = jtem['likes']['count']\n",
    "                    jtem['post_id'] = post[1]\n",
    "                    jtem['group_id'] = post[0]\n",
    "                    cur_com.append(jtem)\n",
    "        except:\n",
    "            pass\n",
    "        comments.extend(cur_com) \n",
    "        \n",
    "    return comments    "
   ]
  },
  {
   "cell_type": "code",
   "execution_count": 19,
   "metadata": {},
   "outputs": [],
   "source": [
    "group_names = {v:k for k,v in target_groups.items()}"
   ]
  },
  {
   "cell_type": "code",
   "execution_count": 21,
   "metadata": {
    "scrolled": true
   },
   "outputs": [
    {
     "name": "stdout",
     "output_type": "stream",
     "text": [
      "В группе 55072656 должно быть 704 постов\n"
     ]
    },
    {
     "data": {
      "application/vnd.jupyter.widget-view+json": {
       "model_id": "b18746767e45496f9d65bd008ae223d6",
       "version_major": 2,
       "version_minor": 0
      },
      "text/plain": [
       "HBox(children=(IntProgress(value=0, max=9), HTML(value='')))"
      ]
     },
     "metadata": {},
     "output_type": "display_data"
    }
   ],
   "source": [
    "unique_comments = { }\n",
    "\n",
    "for name in target_groups:\n",
    "    try:\n",
    "        # качаем посты \n",
    "        group_id = target_groups[name]\n",
    "        posts = getPosts(group_id)\n",
    "\n",
    "        print('Из группы {} имени {} скачалось {} постов'.format(target_groups[name], name, len(posts)))\n",
    "\n",
    "        # готовим батчи из запросов для комментов\n",
    "        triple_comments = prepareComments(group_id, posts)\n",
    "\n",
    "        print('Число запросов: {}'.format(len(triple_comments)))\n",
    "\n",
    "        # качаем комменты\n",
    "        comments = getComments(triple_comments)\n",
    "\n",
    "        setlen = len(set([str(comment['post_id']) + '_' + str(comment['id']) for comment in comments]))\n",
    "        print('Число комментов: {}, из них уникальных: {}'.format(len(comments), setlen ))\n",
    "\n",
    "        # смотрим на десяток последних комментов \n",
    "        for comment in comments[-10:]:\n",
    "            print(comment['post_id'],comment['id'])\n",
    "            print(comment['text'])\n",
    "            print('--------------------')\n",
    "\n",
    "        # записываем накачаное добро в словарик\n",
    "        unique_comments[name] = comments\n",
    "\n",
    "        # Сохраняем ну хоть что-нибудь... \n",
    "        with open('../data/{}_group_comments_{}'.format(music_style, group_names[group_id]), 'wb') as f:\n",
    "            pickle.dump(comments, f)\n",
    "\n",
    "        print('====================================================================')\n",
    "    except KeyboardInterrupt:\n",
    "        break"
   ]
  }
 ],
 "metadata": {
  "kernelspec": {
   "display_name": "Python 3",
   "language": "python",
   "name": "python3"
  },
  "language_info": {
   "codemirror_mode": {
    "name": "ipython",
    "version": 3
   },
   "file_extension": ".py",
   "mimetype": "text/x-python",
   "name": "python",
   "nbconvert_exporter": "python",
   "pygments_lexer": "ipython3",
   "version": "3.7.3"
  },
  "varInspector": {
   "cols": {
    "lenName": 16,
    "lenType": 16,
    "lenVar": 40
   },
   "kernels_config": {
    "python": {
     "delete_cmd_postfix": "",
     "delete_cmd_prefix": "del ",
     "library": "var_list.py",
     "varRefreshCmd": "print(var_dic_list())"
    },
    "r": {
     "delete_cmd_postfix": ") ",
     "delete_cmd_prefix": "rm(",
     "library": "var_list.r",
     "varRefreshCmd": "cat(var_dic_list()) "
    }
   },
   "types_to_exclude": [
    "module",
    "function",
    "builtin_function_or_method",
    "instance",
    "_Feature"
   ],
   "window_display": false
  }
 },
 "nbformat": 4,
 "nbformat_minor": 2
}
